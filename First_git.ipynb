{
  "nbformat": 4,
  "nbformat_minor": 0,
  "metadata": {
    "colab": {
      "provenance": [],
      "toc_visible": true,
      "mount_file_id": "1yZPyDDhjulA5LsQ1-lHAmexT9MT_bxZn",
      "authorship_tag": "ABX9TyPNVkOjOsHr9tZvePpLFkcR",
      "include_colab_link": true
    },
    "kernelspec": {
      "name": "python3",
      "display_name": "Python 3"
    },
    "language_info": {
      "name": "python"
    }
  },
  "cells": [
    {
      "cell_type": "markdown",
      "metadata": {
        "id": "view-in-github",
        "colab_type": "text"
      },
      "source": [
        "<a href=\"https://colab.research.google.com/github/chaimahmida/matrix_git/blob/main/First_git.ipynb\" target=\"_parent\"><img src=\"https://colab.research.google.com/assets/colab-badge.svg\" alt=\"Open In Colab\"/></a>"
      ]
    },
    {
      "cell_type": "markdown",
      "source": [
        "\n",
        "Matrix\n",
        "---\n",
        "\n"
      ],
      "metadata": {
        "id": "TYZwLM7bcsrd"
      }
    },
    {
      "cell_type": "code",
      "source": [
        "\n",
        "import numpy as np\n",
        "from scipy import stats as st\n",
        "matrix=np.array([[1, 2, 3], [4, 2, 6], [7, 8, 9]])\n",
        "print(\"voila ma matrice :\",matrix)\n"
      ],
      "metadata": {
        "colab": {
          "base_uri": "https://localhost:8080/"
        },
        "id": "YQKN33975sKS",
        "outputId": "19c1e177-72e0-46f1-88e7-a6c10a5d573e"
      },
      "execution_count": null,
      "outputs": [
        {
          "output_type": "stream",
          "name": "stdout",
          "text": [
            "voila ma matrice : [[1 2 3]\n",
            " [4 2 6]\n",
            " [7 8 9]]\n"
          ]
        }
      ]
    },
    {
      "cell_type": "code",
      "source": [
        "\n",
        "\n",
        "\n",
        "mean_value=np.mean(matrix)\n",
        "print(\"la moyenne de la matrice est :\",mean_value)\n",
        "\n",
        "\n",
        "median_value=np.median(matrix)\n",
        "print(\"la mediane de la matrice est :\",median_value)\n",
        "\n"
      ],
      "metadata": {
        "colab": {
          "base_uri": "https://localhost:8080/"
        },
        "id": "Pr6_zrfwnluG",
        "outputId": "b021d02f-d5de-4ac6-8b92-e57b4fdc49eb"
      },
      "execution_count": null,
      "outputs": [
        {
          "output_type": "stream",
          "name": "stdout",
          "text": [
            "la moyenne de la matrice est : 4.666666666666667\n",
            "la mediane de la matrice est : 4.0\n"
          ]
        }
      ]
    },
    {
      "cell_type": "code",
      "source": [
        "mode_value=st.mode(matrix,axis=None, keepdims=False)\n",
        "print(\"le mode de la matrice est :\",mode_value)"
      ],
      "metadata": {
        "colab": {
          "base_uri": "https://localhost:8080/"
        },
        "id": "ouTlpzXcnlr3",
        "outputId": "e72e6ea1-71d1-47e0-ea68-5b555d370010"
      },
      "execution_count": null,
      "outputs": [
        {
          "output_type": "stream",
          "name": "stdout",
          "text": [
            "le mode de la matrice est : ModeResult(mode=2, count=2)\n"
          ]
        }
      ]
    },
    {
      "cell_type": "code",
      "source": [
        "lista=np.array([-2.5, 99 ,0,10.5,2024])\n",
        "lista"
      ],
      "metadata": {
        "colab": {
          "base_uri": "https://localhost:8080/"
        },
        "id": "q_i_OuNWugLm",
        "outputId": "f5af7bac-fc94-4567-c062-214b9f677027"
      },
      "execution_count": null,
      "outputs": [
        {
          "output_type": "execute_result",
          "data": {
            "text/plain": [
              "array([  -2.5,   99. ,    0. ,   10.5, 2024. ])"
            ]
          },
          "metadata": {},
          "execution_count": 53
        }
      ]
    },
    {
      "cell_type": "code",
      "source": [
        "print(\"max=\",max(lista) ,\"min=\",min(lista))"
      ],
      "metadata": {
        "colab": {
          "base_uri": "https://localhost:8080/"
        },
        "id": "b3f_U_2RuwA9",
        "outputId": "853033c2-037d-41f5-8bae-0d0d01c465ba"
      },
      "execution_count": null,
      "outputs": [
        {
          "output_type": "stream",
          "name": "stdout",
          "text": [
            "max= 2024 min= -2.5\n"
          ]
        }
      ]
    },
    {
      "cell_type": "code",
      "source": [
        "sum(lista)"
      ],
      "metadata": {
        "colab": {
          "base_uri": "https://localhost:8080/"
        },
        "id": "L0snGlGKvCAa",
        "outputId": "faf47b8d-5b71-4b15-9322-b0509c8a2a0a"
      },
      "execution_count": null,
      "outputs": [
        {
          "output_type": "execute_result",
          "data": {
            "text/plain": [
              "2131.0"
            ]
          },
          "metadata": {},
          "execution_count": 42
        }
      ]
    },
    {
      "cell_type": "code",
      "source": [
        "print(\"le premier élement est :\",lista[0])"
      ],
      "metadata": {
        "colab": {
          "base_uri": "https://localhost:8080/"
        },
        "id": "kO55imTZvHml",
        "outputId": "578051b7-06b5-44d2-d89e-1b8c615f1af2"
      },
      "execution_count": null,
      "outputs": [
        {
          "output_type": "stream",
          "name": "stdout",
          "text": [
            "le premier élement est : -2.5\n"
          ]
        }
      ]
    },
    {
      "cell_type": "code",
      "source": [
        "A=np.sort(lista)\n",
        "A"
      ],
      "metadata": {
        "colab": {
          "base_uri": "https://localhost:8080/"
        },
        "id": "XSF8bChcwtgn",
        "outputId": "7f6a0fed-39d5-459c-aa4b-bbf6e08992dd"
      },
      "execution_count": null,
      "outputs": [
        {
          "output_type": "execute_result",
          "data": {
            "text/plain": [
              "array([  -2.5,    0. ,   10.5,   99. , 2024. ])"
            ]
          },
          "metadata": {},
          "execution_count": 54
        }
      ]
    },
    {
      "cell_type": "code",
      "source": [
        "l=lista.sort()\n",
        "print(l)"
      ],
      "metadata": {
        "colab": {
          "base_uri": "https://localhost:8080/"
        },
        "id": "mUJIix3fzh0B",
        "outputId": "59a836d6-70fc-4533-f89b-7e5793e2353e"
      },
      "execution_count": null,
      "outputs": [
        {
          "output_type": "stream",
          "name": "stdout",
          "text": [
            "None\n"
          ]
        }
      ]
    },
    {
      "cell_type": "code",
      "source": [
        "!git init\n"
      ],
      "metadata": {
        "id": "ug3TKGwQudDA",
        "colab": {
          "base_uri": "https://localhost:8080/"
        },
        "outputId": "ae7615fd-0eb3-4046-ac6e-b665d7a09acb"
      },
      "execution_count": 1,
      "outputs": [
        {
          "output_type": "stream",
          "name": "stdout",
          "text": [
            "\u001b[33mhint: Using 'master' as the name for the initial branch. This default branch name\u001b[m\n",
            "\u001b[33mhint: is subject to change. To configure the initial branch name to use in all\u001b[m\n",
            "\u001b[33mhint: of your new repositories, which will suppress this warning, call:\u001b[m\n",
            "\u001b[33mhint: \u001b[m\n",
            "\u001b[33mhint: \tgit config --global init.defaultBranch <name>\u001b[m\n",
            "\u001b[33mhint: \u001b[m\n",
            "\u001b[33mhint: Names commonly chosen instead of 'master' are 'main', 'trunk' and\u001b[m\n",
            "\u001b[33mhint: 'development'. The just-created branch can be renamed via this command:\u001b[m\n",
            "\u001b[33mhint: \u001b[m\n",
            "\u001b[33mhint: \tgit branch -m <name>\u001b[m\n",
            "Initialized empty Git repository in /content/.git/\n"
          ]
        }
      ]
    },
    {
      "cell_type": "code",
      "source": [
        "!git add /content/drive/MyDrive/checkpoint.ipynb #ipynb jupyter file (extension)"
      ],
      "metadata": {
        "id": "viZmQpQF4uqd"
      },
      "execution_count": 2,
      "outputs": []
    },
    {
      "cell_type": "code",
      "source": [
        "!git status"
      ],
      "metadata": {
        "colab": {
          "base_uri": "https://localhost:8080/"
        },
        "collapsed": true,
        "id": "nrsVhTAB8fij",
        "outputId": "575e09af-8360-4d23-d898-d7d7ec718fad"
      },
      "execution_count": 3,
      "outputs": [
        {
          "output_type": "stream",
          "name": "stdout",
          "text": [
            "On branch master\n",
            "\n",
            "No commits yet\n",
            "\n",
            "Changes to be committed:\n",
            "  (use \"git rm --cached <file>...\" to unstage)\n",
            "\t\u001b[32mnew file:   drive/MyDrive/checkpoint.ipynb\u001b[m\n",
            "\n",
            "Changes not staged for commit:\n",
            "  (use \"git add/rm <file>...\" to update what will be committed)\n",
            "  (use \"git restore <file>...\" to discard changes in working directory)\n",
            "\t\u001b[31mdeleted:    drive/MyDrive/checkpoint.ipynb\u001b[m\n",
            "\n",
            "Untracked files:\n",
            "  (use \"git add <file>...\" to include in what will be committed)\n",
            "\t\u001b[31m.config/\u001b[m\n",
            "\t\u001b[31m\"drive/MyDrive/Carte e\\314\\201lectronique /\"\u001b[m\n",
            "\t\u001b[31mdrive/MyDrive/First_Colab_File.ipynb\u001b[m\n",
            "\t\u001b[31mdrive/MyDrive/Projet tp3_G4.gdoc\u001b[m\n",
            "\t\u001b[31mdrive/MyDrive/Untitled0.ipynb\u001b[m\n",
            "\t\u001b[31mdrive/MyDrive/Vlsi/\u001b[m\n",
            "\t\u001b[31mdrive/MyDrive/olfa amal PFE ing.pptx\u001b[m\n",
            "\t\u001b[31mdrive/MyDrive/presentation gomycode/\u001b[m\n",
            "\t\u001b[31msample_data/\u001b[m\n",
            "\n"
          ]
        }
      ]
    },
    {
      "cell_type": "code",
      "source": [
        "!git commit -m \"initial commit at 8pm 24 october \""
      ],
      "metadata": {
        "colab": {
          "base_uri": "https://localhost:8080/"
        },
        "id": "QOXA8HCq_Nig",
        "outputId": "4468efd6-e37a-42f1-8a5f-25e93c30c94d"
      },
      "execution_count": 4,
      "outputs": [
        {
          "output_type": "stream",
          "name": "stdout",
          "text": [
            "Author identity unknown\n",
            "\n",
            "*** Please tell me who you are.\n",
            "\n",
            "Run\n",
            "\n",
            "  git config --global user.email \"you@example.com\"\n",
            "  git config --global user.name \"Your Name\"\n",
            "\n",
            "to set your account's default identity.\n",
            "Omit --global to set the identity only in this repository.\n",
            "\n",
            "fatal: unable to auto-detect email address (got 'root@e8177a33b464.(none)')\n"
          ]
        }
      ]
    },
    {
      "cell_type": "code",
      "source": [
        "!git config --global user.email \"chaima.hmida1995@gmail.com\"\n",
        "!git config --global user.name \"chaimahmida\""
      ],
      "metadata": {
        "id": "QE1qRT_TAXAc"
      },
      "execution_count": 10,
      "outputs": []
    },
    {
      "cell_type": "code",
      "source": [
        "!git commit -m \" seconde commit\""
      ],
      "metadata": {
        "colab": {
          "base_uri": "https://localhost:8080/"
        },
        "id": "Vpga2-l2B5vy",
        "outputId": "f039f797-0cdb-4d27-9a64-658eba462f3a"
      },
      "execution_count": 11,
      "outputs": [
        {
          "output_type": "stream",
          "name": "stdout",
          "text": [
            "[master (root-commit) aa65526]  seconde commit\n",
            " 1 file changed, 1 insertion(+)\n",
            " create mode 100644 drive/MyDrive/checkpoint.ipynb\n"
          ]
        }
      ]
    },
    {
      "cell_type": "code",
      "source": [
        "import numpy\n",
        "numpy.__version__"
      ],
      "metadata": {
        "colab": {
          "base_uri": "https://localhost:8080/",
          "height": 35
        },
        "id": "UdkO85ZuCEI4",
        "outputId": "cd8022e6-c27c-4dfc-dfd0-3275c84c73ba"
      },
      "execution_count": 13,
      "outputs": [
        {
          "output_type": "execute_result",
          "data": {
            "text/plain": [
              "'1.26.4'"
            ],
            "application/vnd.google.colaboratory.intrinsic+json": {
              "type": "string"
            }
          },
          "metadata": {},
          "execution_count": 13
        }
      ]
    },
    {
      "cell_type": "code",
      "source": [
        "!git commit -m \"initial commit after numpy\""
      ],
      "metadata": {
        "colab": {
          "base_uri": "https://localhost:8080/"
        },
        "id": "k6ijtVNXCS86",
        "outputId": "e0700103-1e4a-4d5e-caf7-21f654c7050b"
      },
      "execution_count": 14,
      "outputs": [
        {
          "output_type": "stream",
          "name": "stdout",
          "text": [
            "On branch master\n",
            "Changes not staged for commit:\n",
            "  (use \"git add/rm <file>...\" to update what will be committed)\n",
            "  (use \"git restore <file>...\" to discard changes in working directory)\n",
            "\t\u001b[31mdeleted:    drive/MyDrive/checkpoint.ipynb\u001b[m\n",
            "\n",
            "Untracked files:\n",
            "  (use \"git add <file>...\" to include in what will be committed)\n",
            "\t\u001b[31m.config/\u001b[m\n",
            "\t\u001b[31m\"drive/MyDrive/Carte e\\314\\201lectronique /\"\u001b[m\n",
            "\t\u001b[31mdrive/MyDrive/First_Colab_File.ipynb\u001b[m\n",
            "\t\u001b[31mdrive/MyDrive/Projet tp3_G4.gdoc\u001b[m\n",
            "\t\u001b[31mdrive/MyDrive/Untitled0.ipynb\u001b[m\n",
            "\t\u001b[31mdrive/MyDrive/Vlsi/\u001b[m\n",
            "\t\u001b[31mdrive/MyDrive/olfa amal PFE ing.pptx\u001b[m\n",
            "\t\u001b[31mdrive/MyDrive/presentation gomycode/\u001b[m\n",
            "\t\u001b[31msample_data/\u001b[m\n",
            "\n",
            "no changes added to commit (use \"git add\" and/or \"git commit -a\")\n"
          ]
        }
      ]
    }
  ]
}